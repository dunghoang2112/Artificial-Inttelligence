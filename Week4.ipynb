{
  "nbformat": 4,
  "nbformat_minor": 0,
  "metadata": {
    "colab": {
      "provenance": [],
      "authorship_tag": "ABX9TyNW6mL4vyHB4G8eG5jDpwwU",
      "include_colab_link": true
    },
    "kernelspec": {
      "name": "python3",
      "display_name": "Python 3"
    },
    "language_info": {
      "name": "python"
    }
  },
  "cells": [
    {
      "cell_type": "markdown",
      "metadata": {
        "id": "view-in-github",
        "colab_type": "text"
      },
      "source": [
        "<a href=\"https://colab.research.google.com/github/dunghoang2112/Artificial-Inttelligence/blob/main/Week4.ipynb\" target=\"_parent\"><img src=\"https://colab.research.google.com/assets/colab-badge.svg\" alt=\"Open In Colab\"/></a>"
      ]
    },
    {
      "cell_type": "code",
      "execution_count": 2,
      "metadata": {
        "colab": {
          "base_uri": "https://localhost:8080/"
        },
        "id": "OMyIS4p26x_Y",
        "outputId": "8b3ed3b0-1c2e-49cb-ea6c-96bdbdf6a95d"
      },
      "outputs": [
        {
          "output_type": "stream",
          "name": "stdout",
          "text": [
            "Looking in indexes: https://pypi.org/simple, https://us-python.pkg.dev/colab-wheels/public/simple/\n",
            "Collecting scikit-fuzzy\n",
            "  Downloading scikit-fuzzy-0.4.2.tar.gz (993 kB)\n",
            "\u001b[2K     \u001b[90m━━━━━━━━━━━━━━━━━━━━━━━━━━━━━━━━━━━━━━\u001b[0m \u001b[32m994.0/994.0 KB\u001b[0m \u001b[31m15.7 MB/s\u001b[0m eta \u001b[36m0:00:00\u001b[0m\n",
            "\u001b[?25h  Preparing metadata (setup.py) ... \u001b[?25l\u001b[?25hdone\n",
            "Requirement already satisfied: numpy>=1.6.0 in /usr/local/lib/python3.8/dist-packages (from scikit-fuzzy) (1.22.4)\n",
            "Requirement already satisfied: scipy>=0.9.0 in /usr/local/lib/python3.8/dist-packages (from scikit-fuzzy) (1.10.1)\n",
            "Requirement already satisfied: networkx>=1.9.0 in /usr/local/lib/python3.8/dist-packages (from scikit-fuzzy) (3.0)\n",
            "Building wheels for collected packages: scikit-fuzzy\n",
            "  Building wheel for scikit-fuzzy (setup.py) ... \u001b[?25l\u001b[?25hdone\n",
            "  Created wheel for scikit-fuzzy: filename=scikit_fuzzy-0.4.2-py3-none-any.whl size=894088 sha256=925e548d187a93d431fd50e027fb0be2406026248c2f89ce1be1461f42a3d417\n",
            "  Stored in directory: /root/.cache/pip/wheels/2c/04/80/7eefb1a2de7d36aefd06432fab2a1486caf0a0596a7067391a\n",
            "Successfully built scikit-fuzzy\n",
            "Installing collected packages: scikit-fuzzy\n",
            "Successfully installed scikit-fuzzy-0.4.2\n"
          ]
        }
      ],
      "source": [
        "!pip install scikit-fuzzy \n"
      ]
    },
    {
      "cell_type": "code",
      "source": [
        "import numpy as np\n",
        "import skfuzzy as fuzz\n",
        "import math\n",
        "from skfuzzy import control as ctrl\n",
        "import matplotlib.pyplot as plt\n",
        "universe =np.linspace(-3.14/2,3.14/2,61)\n",
        "universe1 =np.linspace(-3.14/4,3.14/4,61)\n",
        "universe2 =np.linspace(-10,10,61)\n",
        "Anpha= ctrl.Antecedent(universe,'Anpha')\n",
        "dAnpha= ctrl.Antecedent(universe1,'dAnpha')\n",
        "F= ctrl.Antecedent(universe2,'F')\n",
        "names1=['LN', 'N', 'ZE','P', 'LP']\n",
        "names2=['-2', '-1','0','1', '2']\n",
        "Anpha.automf(names=names1)\n",
        "dAnpha.automf(names=names2)\n",
        "F.automf(names=names1)\n",
        "Anpha.view()\n",
        "dAnpha.view()\n",
        "F.view()\n"
      ],
      "metadata": {
        "id": "uGKWKL2V7rie"
      },
      "execution_count": null,
      "outputs": []
    },
    {
      "cell_type": "code",
      "source": [
        "import numpy as np\n",
        "import skfuzzy as fuzz\n",
        "from skfuzzy import control as ctrl\n",
        "import matplotlib.pyplot as plt\n",
        "#RULES\n",
        "rule0=ctrl.Rule(antecedent=((Anpha['LN']&dAnpha['-2'])|\n",
        "                            (Anpha['LN']&dAnpha['-1'])|\n",
        "                            (Anpha['LN']&dAnpha['0'])|\n",
        "                            (Anpha['N']&dAnpha['-2']))\n",
        "            ,consequent = F['LN'],label='Rule LN')\n",
        "rule1=ctrl.Rule(antecedent=((Anpha['LN']&dAnpha['1'])|\n",
        "                            (Anpha['LN']&dAnpha['2'])|\n",
        "                            (Anpha['N']&dAnpha['-1'])|\n",
        "                            (Anpha['N']&dAnpha['0'])|\n",
        "                            (Anpha['ZE']&dAnpha['-2'])|\n",
        "                            (Anpha['ZE']&dAnpha['-1']))\n",
        "              ,consequent=F['N'],label='Rule N')\n",
        "rule2=ctrl.Rule(antecedent=((Anpha['N']&dAnpha['1'])|\n",
        "                            (Anpha['N']&dAnpha['2'])|\n",
        "                            (Anpha['ZE']&dAnpha['0'])|\n",
        "                            (Anpha['P']&dAnpha['-2'])|\n",
        "                            (Anpha['P']&dAnpha['-1']))\n",
        "                ,consequent=F['ZE'],label='Rule ZE')\n",
        "rule3=ctrl.Rule(antecedent=((Anpha['ZE']&dAnpha['1'])|\n",
        "                            (Anpha['ZE']&dAnpha['2'])|\n",
        "                            (Anpha['P']&dAnpha['1'])|\n",
        "                            (Anpha['P']&dAnpha['0'])|\n",
        "                            (Anpha['LP']&dAnpha['-2'])|\n",
        "                            (Anpha['LP']&dAnpha['-1']))\n",
        "              ,consequent=F['P'],label='Rule P')\n",
        "rule4=ctrl.Rule(antecedent=((Anpha['P']&dAnpha['2'])|\n",
        "                            (Anpha['LP']&dAnpha['0'])|\n",
        "                            (Anpha['LP']&dAnpha['1'])|\n",
        "                            (Anpha['LP']&dAnpha['2']))\n",
        "                ,consequent=F['LP'],label='Rule LP')\n",
        "#3D\n",
        "system=ctrl.ControlSystem(rules=[rule0,rule1,rule2,rule3,rule4])\n",
        "sim=ctrl.ControlSystemSimulation(system,flush_after_run=61*61+1)\n",
        "upsample=np.linspace(0,10,61)\n",
        "x,y=np.meshgrid(upsample,upsample)\n",
        "z=np.zeros_like(x)\n",
        "                   \n",
        "for i in range(61):\n",
        "    for j in range(61):\n",
        "        sim.input['Anpha']=x[i,j]\n",
        "        sim.input['dAnpha']=y[i,j]\n",
        "        sim.compute()\n",
        "        z[i,j]=sim.output['F']\n",
        "from mpl_toolkits.mplot3d import Axes3D\n",
        "fig=plt.figure(figsize=(8,8))\n",
        "ax=fig.add_suplot(111,projection='3d')\n",
        "suf=ax.plot_surface(x,y,z,rstride=1,cstride=1,cmap='viridis'\n",
        "    ,linewidth=0.4,antialiased='Time')\n",
        "cset=ax.contourf(x,y,z,zdir='z',offset=9,cmap='viridis',anpha=0.5)\n",
        "cset=ax.contourf(x,y,z,zdir='x',offset=11,cmap='viridis',anpha=0.5)\n",
        "cset=ax.contourf(x,y,z,zdir='y',offset=11,cmap='viridis',anpha=0.5)\n",
        "ax.view_int(30,200)"
      ],
      "metadata": {
        "id": "GyGIlqlK_53v"
      },
      "execution_count": null,
      "outputs": []
    },
    {
      "cell_type": "code",
      "source": [],
      "metadata": {
        "id": "9LMlt4PeRPQg"
      },
      "execution_count": null,
      "outputs": []
    }
  ]
}