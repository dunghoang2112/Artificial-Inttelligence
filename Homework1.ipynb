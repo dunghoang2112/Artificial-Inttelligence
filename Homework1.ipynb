{
  "cells": [
    {
      "cell_type": "markdown",
      "metadata": {
        "id": "view-in-github",
        "colab_type": "text"
      },
      "source": [
        "<a href=\"https://colab.research.google.com/github/dunghoang2112/Artificial-Inttelligence/blob/main/Homework1.ipynb\" target=\"_parent\"><img src=\"https://colab.research.google.com/assets/colab-badge.svg\" alt=\"Open In Colab\"/></a>"
      ]
    },
    {
      "cell_type": "code",
      "execution_count": null,
      "metadata": {
        "id": "GHHE9yPOHezK"
      },
      "outputs": [],
      "source": [
        "from pandas.core.groupby import groupby\n",
        "import pandas as pd\n",
        "url= 'http://winterolympicsmedals.com/medals.csv'\n",
        "data = pd.read_csv(url)\n",
        "dataframe1=data[(data['Sport'] =='Skating') & (data['Medal']=='Gold')] \n",
        "dataframe2=data[ (data['Medal']=='Gold')&(data['Year']==1924)] \n",
        "print(\"Số huy chương chương vàng theo môn Skating:\",dataframe1['Sport'].count())\n",
        "print(\"Số huy chương chương vàng năm 1924:\",dataframe2['Medal'].count())\n",
        "dataframe3=data[(data['NOC'] =='USA') & (data['Medal']=='Gold')] \n",
        "print(\"Số huy chương vàng của USA tại olympics:\",dataframe3['Medal'].count())\n",
        "dataframe4=data[(data['NOC'] =='USA') & (data['Medal']=='Bronze')] \n",
        "print(\"Số huy chương đồng của FRA tại olympics:\",dataframe4['Medal'].count())\n",
        "dataframe5=data[(data['NOC'] =='USA') & (data['Medal']=='Silver')]\n",
        "print(\"Số huy chương bạc của USA tại olympics:\",dataframe5['Medal'].count())\n",
        "print(\"Số huy chương của USA tại olympics:\",int(dataframe3['Medal'].count())+int(dataframe4['Medal'].count())+int(dataframe5['Medal'].count()))\n",
        "data.groupby(['Sport']).count()\n",
        "print(\"Bảng thống kê số môn thể thao:\",data.groupby(['Sport']).count())\n",
        "data.groupby(['NOC']).count()\n",
        "print(\"Bảng thống kê các nước tham gia Olympics:\",data.groupby(['NOC']).count())"
      ]
    }
  ],
  "metadata": {
    "colab": {
      "provenance": [],
      "include_colab_link": true
    },
    "kernelspec": {
      "display_name": "Python 3",
      "name": "python3"
    },
    "language_info": {
      "name": "python"
    }
  },
  "nbformat": 4,
  "nbformat_minor": 0
}