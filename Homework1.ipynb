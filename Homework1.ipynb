{
  "cells": [
    {
      "cell_type": "markdown",
      "metadata": {
        "id": "view-in-github",
        "colab_type": "text"
      },
      "source": [
        "<a href=\"https://colab.research.google.com/github/dunghoang2112/Artificial-Inttelligence/blob/main/Homework1.ipynb\" target=\"_parent\"><img src=\"https://colab.research.google.com/assets/colab-badge.svg\" alt=\"Open In Colab\"/></a>"
      ]
    },
    {
      "cell_type": "code",
      "execution_count": 3,
      "metadata": {
        "id": "GHHE9yPOHezK",
        "outputId": "c04442da-6a84-4647-9357-e8bde374fd99",
        "colab": {
          "base_uri": "https://localhost:8080/"
        }
      },
      "outputs": [
        {
          "output_type": "stream",
          "name": "stdout",
          "text": [
            "Số huy chương chương vàng theo môn Skating: 254\n",
            "Số huy chương chương vàng năm 1924: 16\n",
            "Số huy chương vàng của USA tại olympics: 78\n",
            "Số huy chương đồng của FRA tại olympics: 58\n",
            "Số huy chương bạc của USA tại olympics: 80\n",
            "Số huy chương của USA tại olympics: 216\n",
            "Bảng thống kê số môn thể thao:             Year  City  Discipline   NOC  Event  Event gender  Medal\n",
            "Sport                                                               \n",
            "Biathlon     162   162         162   162    162           162    162\n",
            "Bobsleigh    133   133         133   133    133           133    133\n",
            "Curling       21    21          21    21     21            21     21\n",
            "Ice Hockey    69    69          69    69     69            69     69\n",
            "Luge         108   108         108   108    108           108    108\n",
            "Skating      758   758         758   758    758           758    758\n",
            "Skiing      1060  1060        1060  1060   1060          1060   1060\n",
            "Bảng thống kê các nước tham gia Olympics:      Year  City  Sport  Discipline  Event  Event gender  Medal\n",
            "NOC                                                           \n",
            "AUS     6     6      6           6      6             6      6\n",
            "AUT   185   185    185         185    185           185    185\n",
            "BEL     5     5      5           5      5             5      5\n",
            "BLR     6     6      6           6      6             6      6\n",
            "BUL     6     6      6           6      6             6      6\n",
            "CAN   119   119    119         119    119           119    119\n",
            "CHN    33    33     33          33     33            33     33\n",
            "CRO     7     7      7           7      7             7      7\n",
            "CZE    10    10     10          10     10            10     10\n",
            "DEN     1     1      1           1      1             1      1\n",
            "ESP     2     2      2           2      2             2      2\n",
            "EST     6     6      6           6      6             6      6\n",
            "EUA    19    19     19          19     19            19     19\n",
            "EUN    23    23     23          23     23            23     23\n",
            "FIN   151   151    151         151    151           151    151\n",
            "FRA    83    83     83          83     83            83     83\n",
            "FRG    41    41     41          41     41            41     41\n",
            "GBR    21    21     21          21     21            21     21\n",
            "GDR   110   110    110         110    110           110    110\n",
            "GER   158   158    158         158    158           158    158\n",
            "HUN     6     6      6           6      6             6      6\n",
            "ITA   101   101    101         101    101           101    101\n",
            "JPN    32    32     32          32     32            32     32\n",
            "KAZ     5     5      5           5      5             5      5\n",
            "KOR    31    31     31          31     31            31     31\n",
            "LAT     1     1      1           1      1             1      1\n",
            "LIE     9     9      9           9      9             9      9\n",
            "LUX     2     2      2           2      2             2      2\n",
            "NED    78    78     78          78     78            78     78\n",
            "NOR   280   280    280         280    280           280    280\n",
            "NZL     1     1      1           1      1             1      1\n",
            "POL     8     8      8           8      8             8      8\n",
            "PRK     2     2      2           2      2             2      2\n",
            "ROU     1     1      1           1      1             1      1\n",
            "RUS    76    76     76          76     76            76     76\n",
            "SLO     4     4      4           4      4             4      4\n",
            "SUI   118   118    118         118    118           118    118\n",
            "SVK     1     1      1           1      1             1      1\n",
            "SWE   118   118    118         118    118           118    118\n",
            "TCH    25    25     25          25     25            25     25\n",
            "UKR     5     5      5           5      5             5      5\n",
            "URS   194   194    194         194    194           194    194\n",
            "USA   216   216    216         216    216           216    216\n",
            "UZB     1     1      1           1      1             1      1\n",
            "YUG     4     4      4           4      4             4      4\n"
          ]
        }
      ],
      "source": [
        "from pandas.core.groupby import groupby\n",
        "import pandas as pd\n",
        "url= 'http://winterolympicsmedals.com/medals.csv'\n",
        "data = pd.read_csv(url)\n",
        "dataframe1=data[(data['Sport'] =='Skating') & (data['Medal']=='Gold')] \n",
        "dataframe2=data[ (data['Medal']=='Gold')&(data['Year']==1924)] \n",
        "print(\"Số huy chương chương vàng theo môn Skating:\",dataframe1['Sport'].count())\n",
        "print(\"Số huy chương chương vàng năm 1924:\",dataframe2['Medal'].count())\n",
        "dataframe3=data[(data['NOC'] =='USA') & (data['Medal']=='Gold')] \n",
        "print(\"Số huy chương vàng của USA tại olympics:\",dataframe3['Medal'].count())\n",
        "dataframe4=data[(data['NOC'] =='USA') & (data['Medal']=='Bronze')] \n",
        "print(\"Số huy chương đồng của USA tại olympics:\",dataframe4['Medal'].count())\n",
        "dataframe5=data[(data['NOC'] =='USA') & (data['Medal']=='Silver')]\n",
        "print(\"Số huy chương bạc của USA tại olympics:\",dataframe5['Medal'].count())\n",
        "print(\"Số huy chương của USA tại olympics:\",int(dataframe3['Medal'].count())+int(dataframe4['Medal'].count())+int(dataframe5['Medal'].count()))\n",
        "data.groupby(['Sport']).count()\n",
        "print(\"Bảng thống kê số môn thể thao:\",data.groupby(['Sport']).count())\n",
        "data.groupby(['NOC']).count()\n",
        "print(\"Bảng thống kê các nước tham gia Olympics:\",data.groupby(['NOC']).count())"
      ]
    }
  ],
  "metadata": {
    "colab": {
      "provenance": [],
      "include_colab_link": true
    },
    "kernelspec": {
      "display_name": "Python 3",
      "name": "python3"
    },
    "language_info": {
      "name": "python"
    }
  },
  "nbformat": 4,
  "nbformat_minor": 0
}